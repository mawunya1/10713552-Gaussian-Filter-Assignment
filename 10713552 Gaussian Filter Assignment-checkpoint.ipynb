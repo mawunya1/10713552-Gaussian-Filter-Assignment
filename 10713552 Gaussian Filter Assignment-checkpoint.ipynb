{
 "cells": [
  {
   "cell_type": "code",
   "execution_count": 21,
   "metadata": {},
   "outputs": [],
   "source": [
    "import numpy as np\n",
    "import math\n",
    "def generate_kernel(size):\n",
    "    '''\n",
    "    This function generates a gaussian kernel.In this code, σ has been set default to 1 so we only specify the size of the kernel\n",
    "    size= Size of kernel.3x3 or 5x5 or 7x7?\n",
    "    '''\n",
    "    kernel =  np.fromfunction(lambda x, y: (1/(2*math.pi*1**2)) * math.e ** ((-1*((x-(size-1)/2)**2+(y-(size-1)/2)**2))/(2*1**2)), (size, size))\n",
    "    return kernel / np.sum(kernel)"
   ]
  },
  {
   "cell_type": "code",
   "execution_count": 22,
   "metadata": {},
   "outputs": [],
   "source": [
    "def gaussianFilter(img,kernel_size):\n",
    "    kernel = generate_kernel(kernel_size)\n",
    "    d = int((kernel_size-1)/2)\n",
    "    gaussian = np.zeros((img.shape[0]-2*d, img.shape[1]-2*d))\n",
    "    for y in range(d, img.shape[0]-d):\n",
    "        for x in range(d, img.shape[1]-d):\n",
    "            gaussian[y-d][x-d] = np.sum(np.multiply(img[y-d:y+d+1, x-d:x+d+1], kernel))\n",
    "    return gaussian"
   ]
  },
  {
   "cell_type": "code",
   "execution_count": 23,
   "metadata": {},
   "outputs": [
    {
     "name": "stdout",
     "output_type": "stream",
     "text": [
      "[[0.37533684 0.07343656 0.47057899 0.89971239 0.05778668 0.27341096\n",
      "  0.5573448  0.43776493 0.89188407 0.68206988]\n",
      " [0.28715959 0.26067954 0.22473554 0.11805382 0.79400414 0.09125387\n",
      "  0.22039241 0.41201621 0.11435015 0.20337096]\n",
      " [0.51293193 0.97340561 0.62763179 0.56772634 0.5022168  0.62393751\n",
      "  0.39839648 0.59767868 0.40170383 0.56818956]\n",
      " [0.40635443 0.52990381 0.77171475 0.63448138 0.5049217  0.77599059\n",
      "  0.25050643 0.53304592 0.26650859 0.59981925]\n",
      " [0.68625779 0.01407359 0.38942443 0.13014433 0.89904393 0.97311205\n",
      "  0.81489287 0.05267183 0.33729988 0.12251533]\n",
      " [0.71392759 0.5019826  0.56204843 0.20155774 0.00168585 0.39445724\n",
      "  0.7691046  0.51191694 0.77161908 0.66312513]\n",
      " [0.13747178 0.37910826 0.54743065 0.30915358 0.3437507  0.7842801\n",
      "  0.55091193 0.31313418 0.14074064 0.14539028]\n",
      " [0.53549998 0.63322713 0.19014484 0.0977954  0.53024576 0.62889973\n",
      "  0.26267886 0.90095717 0.66215044 0.53702958]\n",
      " [0.78809122 0.4597886  0.04667589 0.51434201 0.40494271 0.64397481\n",
      "  0.16268895 0.99557878 0.73283806 0.82176438]\n",
      " [0.01426166 0.11700822 0.60590681 0.33006054 0.79551068 0.55090724\n",
      "  0.23113795 0.18815882 0.06738708 0.46609219]]\n"
     ]
    }
   ],
   "source": [
    "img= np.random.rand(10, 10)\n",
    "print(img)\n",
    "#Printing dummy values as the image"
   ]
  },
  {
   "cell_type": "code",
   "execution_count": 24,
   "metadata": {},
   "outputs": [
    {
     "data": {
      "text/plain": [
       "array([[0.3954734 , 0.41765004, 0.4565505 , 0.43502   , 0.36923846,\n",
       "        0.37086471, 0.42276646, 0.43144556],\n",
       "       [0.56484519, 0.55831678, 0.52144937, 0.53264822, 0.47926743,\n",
       "        0.4270769 , 0.40213596, 0.40488625],\n",
       "       [0.54285052, 0.55431416, 0.55572262, 0.62368355, 0.64616415,\n",
       "        0.53232709, 0.40004925, 0.38696209],\n",
       "       [0.44820999, 0.40285454, 0.42791174, 0.53364903, 0.670536  ,\n",
       "        0.58609685, 0.43741754, 0.39248372],\n",
       "       [0.4414495 , 0.38043845, 0.32909232, 0.3930663 , 0.58957526,\n",
       "        0.59790665, 0.47912836, 0.40986958],\n",
       "       [0.45316051, 0.39791754, 0.30701568, 0.37082805, 0.5151208 ,\n",
       "        0.55916212, 0.50975984, 0.45935478],\n",
       "       [0.43719518, 0.3277979 , 0.31202744, 0.46011685, 0.51332091,\n",
       "        0.53705025, 0.57978119, 0.59241399],\n",
       "       [0.39125744, 0.31724282, 0.37331035, 0.51106967, 0.48456671,\n",
       "        0.4678444 , 0.54094876, 0.62219565]])"
      ]
     },
     "execution_count": 24,
     "metadata": {},
     "output_type": "execute_result"
    }
   ],
   "source": [
    "gaussianFilter(img,3) # Prints the final image after the blur.Missing rows and columns have zeros\n",
    "# Now applying the 3x3 matrix to the kernel"
   ]
  },
  {
   "cell_type": "code",
   "execution_count": null,
   "metadata": {},
   "outputs": [],
   "source": []
  }
 ],
 "metadata": {
  "kernelspec": {
   "display_name": "Python 3",
   "language": "python",
   "name": "python3"
  },
  "language_info": {
   "codemirror_mode": {
    "name": "ipython",
    "version": 3
   },
   "file_extension": ".py",
   "mimetype": "text/x-python",
   "name": "python",
   "nbconvert_exporter": "python",
   "pygments_lexer": "ipython3",
   "version": "3.8.5"
  }
 },
 "nbformat": 4,
 "nbformat_minor": 4
}
